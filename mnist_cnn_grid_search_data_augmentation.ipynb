{
  "nbformat": 4,
  "nbformat_minor": 0,
  "metadata": {
    "kernelspec": {
      "display_name": "Python 3",
      "language": "python",
      "name": "python3"
    },
    "language_info": {
      "codemirror_mode": {
        "name": "ipython",
        "version": 3
      },
      "file_extension": ".py",
      "mimetype": "text/x-python",
      "name": "python",
      "nbconvert_exporter": "python",
      "pygments_lexer": "ipython3",
      "version": "3.6.6"
    },
    "colab": {
      "name": "mnist-cnn-grid-search-data-augmentation.ipynb",
      "provenance": [],
      "collapsed_sections": [],
      "toc_visible": true,
      "include_colab_link": true
    }
  },
  "cells": [
    {
      "cell_type": "markdown",
      "metadata": {
        "id": "view-in-github",
        "colab_type": "text"
      },
      "source": [
        "<a href=\"https://colab.research.google.com/github/arghyadeep-dev/BABYWHITE/blob/master/mnist_cnn_grid_search_data_augmentation.ipynb\" target=\"_parent\"><img src=\"https://colab.research.google.com/assets/colab-badge.svg\" alt=\"Open In Colab\"/></a>"
      ]
    },
    {
      "cell_type": "markdown",
      "metadata": {
        "id": "cF0dzhHU-J5V"
      },
      "source": [
        "<h1>This project is on Digit recognition.....\n",
        "I have taken mnist dataset and used grid search for hyperparameter tyning and ImageDataGenerator For Data Augmentation</h1>"
      ]
    },
    {
      "cell_type": "code",
      "metadata": {
        "id": "OaGvBig1-J5w"
      },
      "source": [
        "import numpy as np\n",
        "import pandas as pd\n",
        "\n",
        "from sklearn.metrics import accuracy_score\n",
        "from sklearn.model_selection import train_test_split\n",
        "\n",
        "# keras import\n",
        "from keras.models import Sequential\n",
        "from keras.layers import Dense, Dropout, Conv2D, MaxPooling2D, AveragePooling2D, Flatten\n",
        "from keras.utils import to_categorical\n",
        "from keras.callbacks import EarlyStopping\n",
        "\n",
        "# hyperparameter optimization\n",
        "from sklearn.model_selection import GridSearchCV\n",
        "from keras.wrappers.scikit_learn import KerasClassifier\n",
        "\n",
        "# data augmentation\n",
        "from keras.preprocessing.image import ImageDataGenerator\n",
        "\n",
        "# visualisation\n",
        "import matplotlib.pyplot as plt\n",
        "import matplotlib.image as mpimg\n",
        "import seaborn as sns\n",
        "#set figure size\n",
        "plt.rcParams['figure.figsize'] = 12, 6\n",
        "sns.set_style('white')\n",
        "\n",
        "# others\n",
        "from random import randrange\n",
        "from time import time"
      ],
      "execution_count": 7,
      "outputs": []
    },
    {
      "cell_type": "markdown",
      "metadata": {
        "id": "_XPGyXuo-J54"
      },
      "source": [
        "I define here global constants for the number of epochs when training an individual model (n_epochs) or doing a grid search with cross validation (n_epochs_cv). Reduce these 2 values if you want to reduce the running time of the kernel.  \n",
        "\n",
        "I also define the number of runs for cross validation (when using Scikit Learn GridSearchCV) and the size of the validation set for train_test_split.\n"
      ]
    },
    {
      "cell_type": "code",
      "metadata": {
        "id": "N8HkiY7k-J56"
      },
      "source": [
        "n_epochs = 30 # 30 \n",
        "n_epochs_cv = 10 # 10  # reduce number of epochs for cross validation for performance reason\n",
        "\n",
        "n_cv = 3\n",
        "validation_ratio = 0.10\n"
      ],
      "execution_count": null,
      "outputs": []
    },
    {
      "cell_type": "markdown",
      "metadata": {
        "id": "naRx0R-P-J58"
      },
      "source": [
        "## 1. EDA: initial look at the data\n",
        "We load the data and display some sample observations to understand the data.....DATASET is taken from kaggle structure.  "
      ]
    },
    {
      "cell_type": "code",
      "metadata": {
        "colab": {
          "resources": {
            "http://localhost:8080/nbextensions/google.colab/files.js": {
              "data": "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",
              "ok": true,
              "headers": [
                [
                  "content-type",
                  "application/javascript"
                ]
              ],
              "status": 200,
              "status_text": ""
            }
          },
          "base_uri": "https://localhost:8080/",
          "height": 140
        },
        "id": "Wrx5y6p6d_cJ",
        "outputId": "1cfddf93-1deb-4501-db3a-cafe2b845def"
      },
      "source": [
        "from google.colab import files\r\n",
        "uploaded = files.upload()"
      ],
      "execution_count": 2,
      "outputs": [
        {
          "output_type": "display_data",
          "data": {
            "text/html": [
              "\n",
              "     <input type=\"file\" id=\"files-3143d84b-42c3-48d9-b45f-756c2300828a\" name=\"files[]\" multiple disabled\n",
              "        style=\"border:none\" />\n",
              "     <output id=\"result-3143d84b-42c3-48d9-b45f-756c2300828a\">\n",
              "      Upload widget is only available when the cell has been executed in the\n",
              "      current browser session. Please rerun this cell to enable.\n",
              "      </output>\n",
              "      <script src=\"/nbextensions/google.colab/files.js\"></script> "
            ],
            "text/plain": [
              "<IPython.core.display.HTML object>"
            ]
          },
          "metadata": {
            "tags": []
          }
        },
        {
          "output_type": "stream",
          "text": [
            "Saving sample_submission.csv to sample_submission (1).csv\n",
            "Saving test.csv to test.csv\n",
            "Saving train.csv to train.csv\n"
          ],
          "name": "stdout"
        }
      ]
    },
    {
      "cell_type": "code",
      "metadata": {
        "id": "y234mmWe-J5-",
        "colab": {
          "base_uri": "https://localhost:8080/"
        },
        "outputId": "e9f08b42-54b7-4dbd-def1-2d0e124032d3"
      },
      "source": [
        "# load dataset and check dimension\n",
        "data_set = pd.read_csv('/content/train.csv')\n",
        "print(data_set.shape)"
      ],
      "execution_count": 8,
      "outputs": [
        {
          "output_type": "stream",
          "text": [
            "(42000, 785)\n"
          ],
          "name": "stdout"
        }
      ]
    },
    {
      "cell_type": "code",
      "metadata": {
        "_cell_guid": "79c7e3d0-c299-4dcb-8224-4455121ee9b0",
        "_uuid": "d629ff2d2480ee46fbb7e2d37f6b5fab8052498a",
        "id": "6JTkfSjC-J6A",
        "outputId": "4b60371c-9492-4afd-bad3-837a5b68f9d3"
      },
      "source": [
        "data_set.sample(3)"
      ],
      "execution_count": null,
      "outputs": [
        {
          "output_type": "execute_result",
          "data": {
            "text/html": [
              "<div>\n",
              "<style scoped>\n",
              "    .dataframe tbody tr th:only-of-type {\n",
              "        vertical-align: middle;\n",
              "    }\n",
              "\n",
              "    .dataframe tbody tr th {\n",
              "        vertical-align: top;\n",
              "    }\n",
              "\n",
              "    .dataframe thead th {\n",
              "        text-align: right;\n",
              "    }\n",
              "</style>\n",
              "<table border=\"1\" class=\"dataframe\">\n",
              "  <thead>\n",
              "    <tr style=\"text-align: right;\">\n",
              "      <th></th>\n",
              "      <th>label</th>\n",
              "      <th>pixel0</th>\n",
              "      <th>pixel1</th>\n",
              "      <th>pixel2</th>\n",
              "      <th>pixel3</th>\n",
              "      <th>pixel4</th>\n",
              "      <th>pixel5</th>\n",
              "      <th>pixel6</th>\n",
              "      <th>pixel7</th>\n",
              "      <th>pixel8</th>\n",
              "      <th>...</th>\n",
              "      <th>pixel774</th>\n",
              "      <th>pixel775</th>\n",
              "      <th>pixel776</th>\n",
              "      <th>pixel777</th>\n",
              "      <th>pixel778</th>\n",
              "      <th>pixel779</th>\n",
              "      <th>pixel780</th>\n",
              "      <th>pixel781</th>\n",
              "      <th>pixel782</th>\n",
              "      <th>pixel783</th>\n",
              "    </tr>\n",
              "  </thead>\n",
              "  <tbody>\n",
              "    <tr>\n",
              "      <th>9719</th>\n",
              "      <td>6</td>\n",
              "      <td>0</td>\n",
              "      <td>0</td>\n",
              "      <td>0</td>\n",
              "      <td>0</td>\n",
              "      <td>0</td>\n",
              "      <td>0</td>\n",
              "      <td>0</td>\n",
              "      <td>0</td>\n",
              "      <td>0</td>\n",
              "      <td>...</td>\n",
              "      <td>0</td>\n",
              "      <td>0</td>\n",
              "      <td>0</td>\n",
              "      <td>0</td>\n",
              "      <td>0</td>\n",
              "      <td>0</td>\n",
              "      <td>0</td>\n",
              "      <td>0</td>\n",
              "      <td>0</td>\n",
              "      <td>0</td>\n",
              "    </tr>\n",
              "    <tr>\n",
              "      <th>11004</th>\n",
              "      <td>9</td>\n",
              "      <td>0</td>\n",
              "      <td>0</td>\n",
              "      <td>0</td>\n",
              "      <td>0</td>\n",
              "      <td>0</td>\n",
              "      <td>0</td>\n",
              "      <td>0</td>\n",
              "      <td>0</td>\n",
              "      <td>0</td>\n",
              "      <td>...</td>\n",
              "      <td>0</td>\n",
              "      <td>0</td>\n",
              "      <td>0</td>\n",
              "      <td>0</td>\n",
              "      <td>0</td>\n",
              "      <td>0</td>\n",
              "      <td>0</td>\n",
              "      <td>0</td>\n",
              "      <td>0</td>\n",
              "      <td>0</td>\n",
              "    </tr>\n",
              "    <tr>\n",
              "      <th>6936</th>\n",
              "      <td>0</td>\n",
              "      <td>0</td>\n",
              "      <td>0</td>\n",
              "      <td>0</td>\n",
              "      <td>0</td>\n",
              "      <td>0</td>\n",
              "      <td>0</td>\n",
              "      <td>0</td>\n",
              "      <td>0</td>\n",
              "      <td>0</td>\n",
              "      <td>...</td>\n",
              "      <td>0</td>\n",
              "      <td>0</td>\n",
              "      <td>0</td>\n",
              "      <td>0</td>\n",
              "      <td>0</td>\n",
              "      <td>0</td>\n",
              "      <td>0</td>\n",
              "      <td>0</td>\n",
              "      <td>0</td>\n",
              "      <td>0</td>\n",
              "    </tr>\n",
              "  </tbody>\n",
              "</table>\n",
              "<p>3 rows × 785 columns</p>\n",
              "</div>"
            ],
            "text/plain": [
              "       label  pixel0  pixel1  pixel2  pixel3  pixel4  pixel5  pixel6  pixel7  \\\n",
              "9719       6       0       0       0       0       0       0       0       0   \n",
              "11004      9       0       0       0       0       0       0       0       0   \n",
              "6936       0       0       0       0       0       0       0       0       0   \n",
              "\n",
              "       pixel8  ...  pixel774  pixel775  pixel776  pixel777  pixel778  \\\n",
              "9719        0  ...         0         0         0         0         0   \n",
              "11004       0  ...         0         0         0         0         0   \n",
              "6936        0  ...         0         0         0         0         0   \n",
              "\n",
              "       pixel779  pixel780  pixel781  pixel782  pixel783  \n",
              "9719          0         0         0         0         0  \n",
              "11004         0         0         0         0         0  \n",
              "6936          0         0         0         0         0  \n",
              "\n",
              "[3 rows x 785 columns]"
            ]
          },
          "metadata": {
            "tags": []
          },
          "execution_count": 4
        }
      ]
    },
    {
      "cell_type": "markdown",
      "metadata": {
        "id": "98sUi-KX-J6C"
      },
      "source": [
        "We check the distribution of the 10 classes of digits. They are roughly equivalently represented, therefore we do not need to use stratify when splitting the data set into training and validation sets."
      ]
    },
    {
      "cell_type": "code",
      "metadata": {
        "id": "X8k1xzZ5-J6D",
        "outputId": "07782dc6-6d0a-491f-954a-2e80222a0bc2"
      },
      "source": [
        "# segregate training data set in pixel features and label\n",
        "y = data_set['label']\n",
        "X = data_set.drop(labels = ['label'], axis=1) \n",
        "# free memory\n",
        "del data_set\n",
        "\n",
        "# check distribution of the handwritten digits\n",
        "sns.countplot(y, color='skyblue');"
      ],
      "execution_count": null,
      "outputs": [
        {
          "output_type": "display_data",
          "data": {
            "image/png": "[encoded data removed]",
            "text/plain": [
              "<Figure size 432x288 with 1 Axes>"
            ]
          },
          "metadata": {
            "tags": [],
            "needs_background": "light"
          }
        }
      ]
    },
    {
      "cell_type": "markdown",
      "metadata": {
        "id": "YJjrRIyb-J6F"
      },
      "source": [
        "Next, let's plot a random sample of 60 images to get a *visual feeling* of the classification task. "
      ]
    },
    {
      "cell_type": "code",
      "metadata": {
        "id": "wd139RCh-J6I",
        "outputId": "2ecd6795-b1e1-45ae-81ff-a010f45c4f7b"
      },
      "source": [
        "# show multiple images chosen randomly \n",
        "fig, axs = plt.subplots(6, 10, figsize=(10, 6)) # 6 rows of 10 images\n",
        "\n",
        "for ax in axs.flat:\n",
        "    i = randrange(X.shape[0])\n",
        "    ax.imshow(X.loc[i].values.reshape(28, 28), cmap='gray_r')\n",
        "    ax.set_axis_off()"
      ],
      "execution_count": null,
      "outputs": [
        {
          "output_type": "display_data",
          "data": {
            "image/png": "[encoded data removed]",
            "text/plain": [
              "<Figure size 720x432 with 60 Axes>"
            ]
          },
          "metadata": {
            "tags": [],
            "needs_background": "light"
          }
        }
      ]
    },
    {
      "cell_type": "code",
      "metadata": {
        "id": "A_00-bN3-J6J"
      },
      "source": [
        "# Normalize pixel value to range 0 to 1\n",
        "X = X / 255.0\n",
        "\n",
        "# extract train and validation set\n",
        "X_train, X_val, y_train, y_val = train_test_split(X, y, test_size = validation_ratio)"
      ],
      "execution_count": null,
      "outputs": []
    },
    {
      "cell_type": "markdown",
      "metadata": {
        "id": "q_emPfZo-J6K"
      },
      "source": [
        "## 2. Implementing a simple MLP\n",
        "Let's start with a simple multilayer perceptron with only 1 hidden layer:\n",
        "* the input layer consists in 128 units, with relu\n",
        "* the hidden layer is made of 64 units, with sigmoid activation function\n",
        "* the output layer contains one unit per expected class, that is 10 units, and uses a softmax activation function to output probabilities  \n",
        "[](http://)\n",
        "How many parameters has this model?\n",
        "* the input layer is taking values from 28x28 images: the number of parameters is 28x28 (input size) x 128 (output size) weights + 128 bias values = 100,480\n",
        "* for the hidden layer, a similar caculation gives 128 x 64 + 64 = 8,256\n",
        "* and for the output layer, we have 64 x 10 + 10 = 650 parameters  \n",
        "\n",
        "OK, this was easy, but we'll see below that counting parameters of CNN is a bit more tricky. "
      ]
    },
    {
      "cell_type": "code",
      "metadata": {
        "id": "xdR3W0FY-J6N",
        "outputId": "10534825-f8c2-4172-d663-52e646c21656"
      },
      "source": [
        "# define model\n",
        "mlp = Sequential()\n",
        "mlp.add(Dense(128, activation='relu', input_shape=(784,)))\n",
        "mlp.add(Dense(64, activation='sigmoid'))  \n",
        "mlp.add(Dense(10, activation='softmax'))\n",
        "\n",
        "mlp.compile(\n",
        "  optimizer='adam',\n",
        "  loss='categorical_crossentropy',\n",
        "  metrics=['accuracy'],\n",
        ")\n",
        "\n",
        "mlp.summary()"
      ],
      "execution_count": null,
      "outputs": [
        {
          "output_type": "stream",
          "text": [
            "Model: \"sequential_1\"\n",
            "_________________________________________________________________\n",
            "Layer (type)                 Output Shape              Param #   \n",
            "=================================================================\n",
            "dense_1 (Dense)              (None, 128)               100480    \n",
            "_________________________________________________________________\n",
            "dense_2 (Dense)              (None, 64)                8256      \n",
            "_________________________________________________________________\n",
            "dense_3 (Dense)              (None, 10)                650       \n",
            "=================================================================\n",
            "Total params: 109,386\n",
            "Trainable params: 109,386\n",
            "Non-trainable params: 0\n",
            "_________________________________________________________________\n"
          ],
          "name": "stdout"
        }
      ]
    },
    {
      "cell_type": "markdown",
      "metadata": {
        "id": "UuQNkET5-J6O"
      },
      "source": [
        "Now, let's train the model. I am using a early stop callback to reduce training time.  \n",
        "Look at the accuracy on the validation set and compare it with the accuracy on the training set. What can you say about the performance and limits of this simple model?"
      ]
    },
    {
      "cell_type": "code",
      "metadata": {
        "id": "EHhDJQe5-J6P",
        "outputId": "0404128b-9b16-4d5d-a930-a34da23af077"
      },
      "source": [
        "# Train the model\n",
        "\n",
        "#define callbacks\n",
        "early_stop = EarlyStopping(monitor = 'val_accuracy', mode = 'max', patience=5, restore_best_weights=True)\n",
        "\n",
        "history = mlp.fit(\n",
        "    X_train,\n",
        "    to_categorical(y_train),\n",
        "    epochs = n_epochs,  \n",
        "    validation_data = (X_val, to_categorical(y_val)),\n",
        "    batch_size = 32,\n",
        "    callbacks = [early_stop]\n",
        ")"
      ],
      "execution_count": null,
      "outputs": [
        {
          "output_type": "stream",
          "text": [
            "Train on 37800 samples, validate on 4200 samples\n",
            "Epoch 1/30\n",
            "37800/37800 [==============================] - 5s 125us/step - loss: 0.3952 - accuracy: 0.8972 - val_loss: 0.1988 - val_accuracy: 0.9410\n",
            "Epoch 2/30\n",
            "37800/37800 [==============================] - 4s 113us/step - loss: 0.1479 - accuracy: 0.9576 - val_loss: 0.1370 - val_accuracy: 0.9590\n",
            "Epoch 3/30\n",
            "37800/37800 [==============================] - 4s 116us/step - loss: 0.0994 - accuracy: 0.9702 - val_loss: 0.1170 - val_accuracy: 0.9631\n",
            "Epoch 4/30\n",
            "37800/37800 [==============================] - 4s 112us/step - loss: 0.0725 - accuracy: 0.9778 - val_loss: 0.1088 - val_accuracy: 0.9688\n",
            "Epoch 5/30\n",
            "37800/37800 [==============================] - 4s 115us/step - loss: 0.0545 - accuracy: 0.9837 - val_loss: 0.0952 - val_accuracy: 0.9726\n",
            "Epoch 6/30\n",
            "37800/37800 [==============================] - 4s 114us/step - loss: 0.0414 - accuracy: 0.9877 - val_loss: 0.0984 - val_accuracy: 0.9683\n",
            "Epoch 7/30\n",
            "37800/37800 [==============================] - 4s 113us/step - loss: 0.0327 - accuracy: 0.9905 - val_loss: 0.0937 - val_accuracy: 0.9738\n",
            "Epoch 8/30\n",
            "37800/37800 [==============================] - 4s 116us/step - loss: 0.0245 - accuracy: 0.9931 - val_loss: 0.0901 - val_accuracy: 0.9743\n",
            "Epoch 9/30\n",
            "37800/37800 [==============================] - 4s 113us/step - loss: 0.0213 - accuracy: 0.9938 - val_loss: 0.0982 - val_accuracy: 0.9710\n",
            "Epoch 10/30\n",
            "37800/37800 [==============================] - 4s 115us/step - loss: 0.0162 - accuracy: 0.9957 - val_loss: 0.0883 - val_accuracy: 0.9752\n",
            "Epoch 11/30\n",
            "37800/37800 [==============================] - 4s 113us/step - loss: 0.0134 - accuracy: 0.9964 - val_loss: 0.1070 - val_accuracy: 0.9726\n",
            "Epoch 12/30\n",
            "37800/37800 [==============================] - 4s 114us/step - loss: 0.0119 - accuracy: 0.9963 - val_loss: 0.0960 - val_accuracy: 0.9755\n",
            "Epoch 13/30\n",
            "37800/37800 [==============================] - 4s 114us/step - loss: 0.0089 - accuracy: 0.9978 - val_loss: 0.1275 - val_accuracy: 0.9690\n",
            "Epoch 14/30\n",
            "37800/37800 [==============================] - 4s 112us/step - loss: 0.0092 - accuracy: 0.9972 - val_loss: 0.0948 - val_accuracy: 0.9774\n",
            "Epoch 15/30\n",
            "37800/37800 [==============================] - 4s 114us/step - loss: 0.0070 - accuracy: 0.9978 - val_loss: 0.1048 - val_accuracy: 0.9750\n",
            "Epoch 16/30\n",
            "37800/37800 [==============================] - 4s 112us/step - loss: 0.0078 - accuracy: 0.9976 - val_loss: 0.1065 - val_accuracy: 0.9750\n",
            "Epoch 17/30\n",
            "37800/37800 [==============================] - 4s 115us/step - loss: 0.0047 - accuracy: 0.9989 - val_loss: 0.0880 - val_accuracy: 0.9812\n",
            "Epoch 18/30\n",
            "37800/37800 [==============================] - 4s 113us/step - loss: 0.0065 - accuracy: 0.9980 - val_loss: 0.1046 - val_accuracy: 0.9788\n",
            "Epoch 19/30\n",
            "37800/37800 [==============================] - 4s 113us/step - loss: 0.0061 - accuracy: 0.9983 - val_loss: 0.1070 - val_accuracy: 0.9745\n",
            "Epoch 20/30\n",
            "37800/37800 [==============================] - 4s 114us/step - loss: 0.0039 - accuracy: 0.9987 - val_loss: 0.1087 - val_accuracy: 0.9764\n",
            "Epoch 21/30\n",
            "37800/37800 [==============================] - 5s 122us/step - loss: 0.0044 - accuracy: 0.9988 - val_loss: 0.1241 - val_accuracy: 0.9736\n",
            "Epoch 22/30\n",
            "37800/37800 [==============================] - 4s 116us/step - loss: 0.0062 - accuracy: 0.9980 - val_loss: 0.1223 - val_accuracy: 0.9736\n"
          ],
          "name": "stdout"
        }
      ]
    },
    {
      "cell_type": "markdown",
      "metadata": {
        "id": "-J_TzoSf-J6R"
      },
      "source": [
        "## What can we say from the results of our training:\n",
        "* the performance of our model is given by the best accuracy obtained on the validation set: around 0.975 (depending on the run)\n",
        "* the best scores are already obtained after more or less 10 epochs, meaning that there is probably no or little gain to increase number of epochs\n",
        "* and there is clear sign of overfitting as the loss for the validation set (around 0.1) is roughly 10 times the loss on the training set (around 0.01).  \n",
        "\n",
        "Let's plot the accuracy for the training and validation to confirm this last point.  "
      ]
    },
    {
      "cell_type": "code",
      "metadata": {
        "id": "DbEoCS_D-J6S",
        "outputId": "7a099ee9-4b3d-47c3-e950-d5e315642e12"
      },
      "source": [
        "# compare accuracy accuracy on training and validation data\n",
        "df_history = pd.DataFrame(history.history)\n",
        "sns.lineplot(data=df_history[['accuracy','val_accuracy']], palette=\"tab10\", linewidth=2.5);"
      ],
      "execution_count": null,
      "outputs": [
        {
          "output_type": "display_data",
          "data": {
            "image/png": "[encoded data removed]",
            "text/plain": [
              "<Figure size 432x288 with 1 Axes>"
            ]
          },
          "metadata": {
            "tags": [],
            "needs_background": "light"
          }
        }
      ]
    },
    {
      "cell_type": "markdown",
      "metadata": {
        "id": "gVYzbURe-J6U"
      },
      "source": [
        "## 3. Optimize hyperparameters and add dropout to reduce overfit\n",
        "As our MLP model shows sign of overfit, we will now add dropout layers to try to fix this. The dropout rate will be determined thru a grid search, along with the batch size.  \n",
        "For this, we will use the KerasClassifier wrapper for Scikit Learn, which gives us a Scikit Learn estimator that we can optimize with GridSearchCV \n",
        "\n",
        "Results are:\n",
        "* no more overfit from dropout rate = 0.2 and above \n",
        "* no or minimal improvement of the accuracy on the validation set: **we are reaching the limit of a simple MLP model**\n",
        "* noticeable degradation of results (both on training and validation sets) for rate of 0.4 and above "
      ]
    },
    {
      "cell_type": "code",
      "metadata": {
        "id": "UBr77g6S-J6X",
        "outputId": "40536466-4541-40e8-feb5-26eef5c73842"
      },
      "source": [
        "start=time()\n",
        "\n",
        "# define a function to create model, required for KerasClassifier\n",
        "# the function takes drop_out rate as argument so we can optimize it  \n",
        "def create_mlp_model(dropout_rate=0):\n",
        "    # create model\n",
        "    model = Sequential()\n",
        "    model.add(Dense(128, activation='relu', input_shape=(784,))) \n",
        "    # add a dropout layer if rate is not null\n",
        "    if dropout_rate != 0:\n",
        "        model.add(Dropout(rate=dropout_rate))        \n",
        "    model.add(Dense(64, activation='sigmoid')) \n",
        "    # add a dropout layer if rate is not null    \n",
        "    if dropout_rate != 0:\n",
        "        model.add(Dropout(rate=dropout_rate))           \n",
        "    model.add(Dense(10, activation='softmax'))\n",
        "    \n",
        "    # Compile model\n",
        "    model.compile( \n",
        "        optimizer='adam',\n",
        "        loss='categorical_crossentropy',\n",
        "        metrics=['accuracy'],\n",
        "        )    \n",
        "    return model\n",
        "\n",
        "# define function to display the results of the grid search\n",
        "def display_cv_results(search_results):\n",
        "    print('Best score = {:.4f} using {}'.format(search_results.best_score_, search_results.best_params_))\n",
        "    means = search_results.cv_results_['mean_test_score']\n",
        "    stds = search_results.cv_results_['std_test_score']\n",
        "    params = search_results.cv_results_['params']\n",
        "    for mean, stdev, param in zip(means, stds, params):\n",
        "        print('mean test accuracy +/- std = {:.4f} +/- {:.4f} with: {}'.format(mean, stdev, param))    \n",
        "    \n",
        "# create model\n",
        "model = KerasClassifier(build_fn=create_mlp_model, verbose=1)\n",
        "# define parameters and values for grid search \n",
        "param_grid = {\n",
        "    'batch_size': [16, 32, 64],\n",
        "    'epochs': [n_epochs_cv],\n",
        "    'dropout_rate': [0.0, 0.10, 0.20, 0.30],\n",
        "}\n",
        "grid = GridSearchCV(estimator=model, param_grid=param_grid, n_jobs=-1, cv=n_cv)\n",
        "grid_result = grid.fit(X, to_categorical(y))  # fit the full dataset as we are using cross validation \n",
        "\n",
        "# print out results\n",
        "print('time for grid search = {:.0f} sec'.format(time()-start))\n",
        "display_cv_results(grid_result)"
      ],
      "execution_count": null,
      "outputs": [
        {
          "output_type": "stream",
          "text": [
            "Epoch 1/10\n",
            "42000/42000 [==============================] - 8s 189us/step - loss: 0.3691 - accuracy: 0.8981\n",
            "Epoch 2/10\n",
            "42000/42000 [==============================] - 8s 180us/step - loss: 0.1501 - accuracy: 0.9550\n",
            "Epoch 3/10\n",
            "42000/42000 [==============================] - 8s 182us/step - loss: 0.1073 - accuracy: 0.9688\n",
            "Epoch 4/10\n",
            "42000/42000 [==============================] - 8s 185us/step - loss: 0.0835 - accuracy: 0.9743\n",
            "Epoch 5/10\n",
            "42000/42000 [==============================] - 8s 186us/step - loss: 0.0685 - accuracy: 0.9789\n",
            "Epoch 6/10\n",
            "42000/42000 [==============================] - 8s 187us/step - loss: 0.0584 - accuracy: 0.9817\n",
            "Epoch 7/10\n",
            "42000/42000 [==============================] - 8s 185us/step - loss: 0.0503 - accuracy: 0.9838\n",
            "Epoch 8/10\n",
            "42000/42000 [==============================] - 8s 191us/step - loss: 0.0443 - accuracy: 0.9858\n",
            "Epoch 9/10\n",
            "42000/42000 [==============================] - 9s 204us/step - loss: 0.0402 - accuracy: 0.9863\n",
            "Epoch 10/10\n",
            "42000/42000 [==============================] - 8s 196us/step - loss: 0.0381 - accuracy: 0.9876\n",
            "time for grid search = 818 sec\n",
            "Best score = 0.9740 using {'batch_size': 16, 'dropout_rate': 0.1, 'epochs': 10}\n",
            "mean test accuracy +/- std = 0.9701 +/- 0.0015 with: {'batch_size': 16, 'dropout_rate': 0.0, 'epochs': 10}\n",
            "mean test accuracy +/- std = 0.9740 +/- 0.0021 with: {'batch_size': 16, 'dropout_rate': 0.1, 'epochs': 10}\n",
            "mean test accuracy +/- std = 0.9708 +/- 0.0013 with: {'batch_size': 16, 'dropout_rate': 0.2, 'epochs': 10}\n",
            "mean test accuracy +/- std = 0.9690 +/- 0.0014 with: {'batch_size': 16, 'dropout_rate': 0.3, 'epochs': 10}\n",
            "mean test accuracy +/- std = 0.9692 +/- 0.0019 with: {'batch_size': 32, 'dropout_rate': 0.0, 'epochs': 10}\n",
            "mean test accuracy +/- std = 0.9717 +/- 0.0012 with: {'batch_size': 32, 'dropout_rate': 0.1, 'epochs': 10}\n",
            "mean test accuracy +/- std = 0.9710 +/- 0.0013 with: {'batch_size': 32, 'dropout_rate': 0.2, 'epochs': 10}\n",
            "mean test accuracy +/- std = 0.9685 +/- 0.0006 with: {'batch_size': 32, 'dropout_rate': 0.3, 'epochs': 10}\n",
            "mean test accuracy +/- std = 0.9703 +/- 0.0011 with: {'batch_size': 64, 'dropout_rate': 0.0, 'epochs': 10}\n",
            "mean test accuracy +/- std = 0.9701 +/- 0.0015 with: {'batch_size': 64, 'dropout_rate': 0.1, 'epochs': 10}\n",
            "mean test accuracy +/- std = 0.9692 +/- 0.0002 with: {'batch_size': 64, 'dropout_rate': 0.2, 'epochs': 10}\n",
            "mean test accuracy +/- std = 0.9663 +/- 0.0020 with: {'batch_size': 64, 'dropout_rate': 0.3, 'epochs': 10}\n"
          ],
          "name": "stdout"
        }
      ]
    },
    {
      "cell_type": "markdown",
      "metadata": {
        "id": "ejT4qcb4-J6b"
      },
      "source": [
        ""
      ]
    },
    {
      "cell_type": "code",
      "metadata": {
        "id": "XP4o6wDO-J6f",
        "outputId": "2aab23d4-c00c-4cc9-e605-fe760029fc8c"
      },
      "source": [
        "# reload best model\n",
        "mlp = grid_result.best_estimator_ \n",
        "\n",
        "# retrain best model on the full training set \n",
        "history = mlp.fit(\n",
        "    X_train,\n",
        "    to_categorical(y_train),\n",
        "    validation_data = (X_val, to_categorical(y_val)),\n",
        "    epochs = n_epochs,\n",
        "    callbacks = [early_stop]    \n",
        ")"
      ],
      "execution_count": null,
      "outputs": [
        {
          "output_type": "stream",
          "text": [
            "Train on 37800 samples, validate on 4200 samples\n",
            "Epoch 1/30\n",
            "37800/37800 [==============================] - 8s 210us/step - loss: 0.3694 - accuracy: 0.8984 - val_loss: 0.1831 - val_accuracy: 0.9436\n",
            "Epoch 2/30\n",
            "37800/37800 [==============================] - 7s 198us/step - loss: 0.1503 - accuracy: 0.9558 - val_loss: 0.1284 - val_accuracy: 0.9595\n",
            "Epoch 3/30\n",
            "37800/37800 [==============================] - 8s 199us/step - loss: 0.1078 - accuracy: 0.9668 - val_loss: 0.1078 - val_accuracy: 0.9695\n",
            "Epoch 4/30\n",
            "37800/37800 [==============================] - 8s 202us/step - loss: 0.0860 - accuracy: 0.9738 - val_loss: 0.0989 - val_accuracy: 0.9686\n",
            "Epoch 5/30\n",
            "37800/37800 [==============================] - 8s 203us/step - loss: 0.0694 - accuracy: 0.9790 - val_loss: 0.0996 - val_accuracy: 0.9707\n",
            "Epoch 6/30\n",
            "37800/37800 [==============================] - 8s 201us/step - loss: 0.0601 - accuracy: 0.9808 - val_loss: 0.0970 - val_accuracy: 0.9721\n",
            "Epoch 7/30\n",
            "37800/37800 [==============================] - 7s 197us/step - loss: 0.0511 - accuracy: 0.9836 - val_loss: 0.0857 - val_accuracy: 0.9771\n",
            "Epoch 8/30\n",
            "37800/37800 [==============================] - 8s 202us/step - loss: 0.0445 - accuracy: 0.9857 - val_loss: 0.0942 - val_accuracy: 0.9767\n",
            "Epoch 9/30\n",
            "37800/37800 [==============================] - 8s 201us/step - loss: 0.0405 - accuracy: 0.9872 - val_loss: 0.0867 - val_accuracy: 0.9762\n",
            "Epoch 10/30\n",
            "37800/37800 [==============================] - 7s 195us/step - loss: 0.0367 - accuracy: 0.9881 - val_loss: 0.0913 - val_accuracy: 0.9750\n",
            "Epoch 11/30\n",
            "37800/37800 [==============================] - 8s 199us/step - loss: 0.0303 - accuracy: 0.9897 - val_loss: 0.0933 - val_accuracy: 0.9764\n",
            "Epoch 12/30\n",
            "37800/37800 [==============================] - 7s 196us/step - loss: 0.0307 - accuracy: 0.9899 - val_loss: 0.0949 - val_accuracy: 0.9755\n"
          ],
          "name": "stdout"
        }
      ]
    },
    {
      "cell_type": "code",
      "metadata": {
        "id": "vqVm2F6K-J6g",
        "outputId": "e2a15f46-12f3-4e9a-a8ca-ef35e206335c"
      },
      "source": [
        "# get prediction on validation dataset \n",
        "y_pred = mlp.predict(X_val)\n",
        "print('Accuracy on validation data = {:.4f}'.format(accuracy_score(y_val, y_pred)))\n",
        "\n",
        "# plot accuracy on training and validation data\n",
        "df_history = pd.DataFrame(history.history)\n",
        "sns.lineplot(data=df_history[['accuracy','val_accuracy']], palette=\"tab10\", linewidth=2.5);"
      ],
      "execution_count": null,
      "outputs": [
        {
          "output_type": "stream",
          "text": [
            "4200/4200 [==============================] - 0s 52us/step\n",
            "Accuracy on validation data = 0.9771\n"
          ],
          "name": "stdout"
        },
        {
          "output_type": "display_data",
          "data": {
            "image/png": "[encoded data removed]",
            "text/plain": [
              "<Figure size 432x288 with 1 Axes>"
            ]
          },
          "metadata": {
            "tags": [],
            "needs_background": "light"
          }
        }
      ]
    },
    {
      "cell_type": "code",
      "metadata": {
        "id": "PtqkfIM8-J6i",
        "colab": {
          "base_uri": "https://localhost:8080/",
          "height": 510
        },
        "outputId": "ae7911aa-4d2e-49fe-a776-0e403028cbb6"
      },
      "source": [
        "# load test data and make prediction\n",
        "test = pd.read_csv('/content/test.csv')\n",
        "y_test = mlp.predict(test)"
      ],
      "execution_count": 13,
      "outputs": [
        {
          "output_type": "error",
          "ename": "ParserError",
          "evalue": "ignored",
          "traceback": [
            "\u001b[0;31m---------------------------------------------------------------------------\u001b[0m",
            "\u001b[0;31mParserError\u001b[0m                               Traceback (most recent call last)",
            "\u001b[0;32m<ipython-input-13-e86eebda5b69>\u001b[0m in \u001b[0;36m<module>\u001b[0;34m()\u001b[0m\n\u001b[1;32m      1\u001b[0m \u001b[0;31m# load test data and make prediction\u001b[0m\u001b[0;34m\u001b[0m\u001b[0;34m\u001b[0m\u001b[0;34m\u001b[0m\u001b[0m\n\u001b[0;32m----> 2\u001b[0;31m \u001b[0mtest\u001b[0m \u001b[0;34m=\u001b[0m \u001b[0mpd\u001b[0m\u001b[0;34m.\u001b[0m\u001b[0mread_csv\u001b[0m\u001b[0;34m(\u001b[0m\u001b[0;34m'/content/test.csv'\u001b[0m\u001b[0;34m)\u001b[0m\u001b[0;34m\u001b[0m\u001b[0;34m\u001b[0m\u001b[0m\n\u001b[0m\u001b[1;32m      3\u001b[0m \u001b[0my_test\u001b[0m \u001b[0;34m=\u001b[0m \u001b[0mmlp\u001b[0m\u001b[0;34m.\u001b[0m\u001b[0mpredict\u001b[0m\u001b[0;34m(\u001b[0m\u001b[0mtest\u001b[0m\u001b[0;34m)\u001b[0m\u001b[0;34m\u001b[0m\u001b[0;34m\u001b[0m\u001b[0m\n",
            "\u001b[0;32m/usr/local/lib/python3.7/dist-packages/pandas/io/parsers.py\u001b[0m in \u001b[0;36mread_csv\u001b[0;34m(filepath_or_buffer, sep, delimiter, header, names, index_col, usecols, squeeze, prefix, mangle_dupe_cols, dtype, engine, converters, true_values, false_values, skipinitialspace, skiprows, skipfooter, nrows, na_values, keep_default_na, na_filter, verbose, skip_blank_lines, parse_dates, infer_datetime_format, keep_date_col, date_parser, dayfirst, cache_dates, iterator, chunksize, compression, thousands, decimal, lineterminator, quotechar, quoting, doublequote, escapechar, comment, encoding, dialect, error_bad_lines, warn_bad_lines, delim_whitespace, low_memory, memory_map, float_precision)\u001b[0m\n\u001b[1;32m    686\u001b[0m     )\n\u001b[1;32m    687\u001b[0m \u001b[0;34m\u001b[0m\u001b[0m\n\u001b[0;32m--> 688\u001b[0;31m     \u001b[0;32mreturn\u001b[0m \u001b[0m_read\u001b[0m\u001b[0;34m(\u001b[0m\u001b[0mfilepath_or_buffer\u001b[0m\u001b[0;34m,\u001b[0m \u001b[0mkwds\u001b[0m\u001b[0;34m)\u001b[0m\u001b[0;34m\u001b[0m\u001b[0;34m\u001b[0m\u001b[0m\n\u001b[0m\u001b[1;32m    689\u001b[0m \u001b[0;34m\u001b[0m\u001b[0m\n\u001b[1;32m    690\u001b[0m \u001b[0;34m\u001b[0m\u001b[0m\n",
            "\u001b[0;32m/usr/local/lib/python3.7/dist-packages/pandas/io/parsers.py\u001b[0m in \u001b[0;36m_read\u001b[0;34m(filepath_or_buffer, kwds)\u001b[0m\n\u001b[1;32m    458\u001b[0m \u001b[0;34m\u001b[0m\u001b[0m\n\u001b[1;32m    459\u001b[0m     \u001b[0;32mtry\u001b[0m\u001b[0;34m:\u001b[0m\u001b[0;34m\u001b[0m\u001b[0;34m\u001b[0m\u001b[0m\n\u001b[0;32m--> 460\u001b[0;31m         \u001b[0mdata\u001b[0m \u001b[0;34m=\u001b[0m \u001b[0mparser\u001b[0m\u001b[0;34m.\u001b[0m\u001b[0mread\u001b[0m\u001b[0;34m(\u001b[0m\u001b[0mnrows\u001b[0m\u001b[0;34m)\u001b[0m\u001b[0;34m\u001b[0m\u001b[0;34m\u001b[0m\u001b[0m\n\u001b[0m\u001b[1;32m    461\u001b[0m     \u001b[0;32mfinally\u001b[0m\u001b[0;34m:\u001b[0m\u001b[0;34m\u001b[0m\u001b[0;34m\u001b[0m\u001b[0m\n\u001b[1;32m    462\u001b[0m         \u001b[0mparser\u001b[0m\u001b[0;34m.\u001b[0m\u001b[0mclose\u001b[0m\u001b[0;34m(\u001b[0m\u001b[0;34m)\u001b[0m\u001b[0;34m\u001b[0m\u001b[0;34m\u001b[0m\u001b[0m\n",
            "\u001b[0;32m/usr/local/lib/python3.7/dist-packages/pandas/io/parsers.py\u001b[0m in \u001b[0;36mread\u001b[0;34m(self, nrows)\u001b[0m\n\u001b[1;32m   1196\u001b[0m     \u001b[0;32mdef\u001b[0m \u001b[0mread\u001b[0m\u001b[0;34m(\u001b[0m\u001b[0mself\u001b[0m\u001b[0;34m,\u001b[0m \u001b[0mnrows\u001b[0m\u001b[0;34m=\u001b[0m\u001b[0;32mNone\u001b[0m\u001b[0;34m)\u001b[0m\u001b[0;34m:\u001b[0m\u001b[0;34m\u001b[0m\u001b[0;34m\u001b[0m\u001b[0m\n\u001b[1;32m   1197\u001b[0m         \u001b[0mnrows\u001b[0m \u001b[0;34m=\u001b[0m \u001b[0m_validate_integer\u001b[0m\u001b[0;34m(\u001b[0m\u001b[0;34m\"nrows\"\u001b[0m\u001b[0;34m,\u001b[0m \u001b[0mnrows\u001b[0m\u001b[0;34m)\u001b[0m\u001b[0;34m\u001b[0m\u001b[0;34m\u001b[0m\u001b[0m\n\u001b[0;32m-> 1198\u001b[0;31m         \u001b[0mret\u001b[0m \u001b[0;34m=\u001b[0m \u001b[0mself\u001b[0m\u001b[0;34m.\u001b[0m\u001b[0m_engine\u001b[0m\u001b[0;34m.\u001b[0m\u001b[0mread\u001b[0m\u001b[0;34m(\u001b[0m\u001b[0mnrows\u001b[0m\u001b[0;34m)\u001b[0m\u001b[0;34m\u001b[0m\u001b[0;34m\u001b[0m\u001b[0m\n\u001b[0m\u001b[1;32m   1199\u001b[0m \u001b[0;34m\u001b[0m\u001b[0m\n\u001b[1;32m   1200\u001b[0m         \u001b[0;31m# May alter columns / col_dict\u001b[0m\u001b[0;34m\u001b[0m\u001b[0;34m\u001b[0m\u001b[0;34m\u001b[0m\u001b[0m\n",
            "\u001b[0;32m/usr/local/lib/python3.7/dist-packages/pandas/io/parsers.py\u001b[0m in \u001b[0;36mread\u001b[0;34m(self, nrows)\u001b[0m\n\u001b[1;32m   2155\u001b[0m     \u001b[0;32mdef\u001b[0m \u001b[0mread\u001b[0m\u001b[0;34m(\u001b[0m\u001b[0mself\u001b[0m\u001b[0;34m,\u001b[0m \u001b[0mnrows\u001b[0m\u001b[0;34m=\u001b[0m\u001b[0;32mNone\u001b[0m\u001b[0;34m)\u001b[0m\u001b[0;34m:\u001b[0m\u001b[0;34m\u001b[0m\u001b[0;34m\u001b[0m\u001b[0m\n\u001b[1;32m   2156\u001b[0m         \u001b[0;32mtry\u001b[0m\u001b[0;34m:\u001b[0m\u001b[0;34m\u001b[0m\u001b[0;34m\u001b[0m\u001b[0m\n\u001b[0;32m-> 2157\u001b[0;31m             \u001b[0mdata\u001b[0m \u001b[0;34m=\u001b[0m \u001b[0mself\u001b[0m\u001b[0;34m.\u001b[0m\u001b[0m_reader\u001b[0m\u001b[0;34m.\u001b[0m\u001b[0mread\u001b[0m\u001b[0;34m(\u001b[0m\u001b[0mnrows\u001b[0m\u001b[0;34m)\u001b[0m\u001b[0;34m\u001b[0m\u001b[0;34m\u001b[0m\u001b[0m\n\u001b[0m\u001b[1;32m   2158\u001b[0m         \u001b[0;32mexcept\u001b[0m \u001b[0mStopIteration\u001b[0m\u001b[0;34m:\u001b[0m\u001b[0;34m\u001b[0m\u001b[0;34m\u001b[0m\u001b[0m\n\u001b[1;32m   2159\u001b[0m             \u001b[0;32mif\u001b[0m \u001b[0mself\u001b[0m\u001b[0;34m.\u001b[0m\u001b[0m_first_chunk\u001b[0m\u001b[0;34m:\u001b[0m\u001b[0;34m\u001b[0m\u001b[0;34m\u001b[0m\u001b[0m\n",
            "\u001b[0;32mpandas/_libs/parsers.pyx\u001b[0m in \u001b[0;36mpandas._libs.parsers.TextReader.read\u001b[0;34m()\u001b[0m\n",
            "\u001b[0;32mpandas/_libs/parsers.pyx\u001b[0m in \u001b[0;36mpandas._libs.parsers.TextReader._read_low_memory\u001b[0;34m()\u001b[0m\n",
            "\u001b[0;32mpandas/_libs/parsers.pyx\u001b[0m in \u001b[0;36mpandas._libs.parsers.TextReader._read_rows\u001b[0;34m()\u001b[0m\n",
            "\u001b[0;32mpandas/_libs/parsers.pyx\u001b[0m in \u001b[0;36mpandas._libs.parsers.TextReader._tokenize_rows\u001b[0;34m()\u001b[0m\n",
            "\u001b[0;32mpandas/_libs/parsers.pyx\u001b[0m in \u001b[0;36mpandas._libs.parsers.raise_parser_error\u001b[0;34m()\u001b[0m\n",
            "\u001b[0;31mParserError\u001b[0m: Error tokenizing data. C error: Expected 784 fields in line 572, saw 1396\n"
          ]
        }
      ]
    },
    {
      "cell_type": "code",
      "metadata": {
        "id": "Y4igHvme-J6l"
      },
      "source": [
        "# convert prediction to df\n",
        "submission = pd.DataFrame(data=y_test)\n",
        "\n",
        "# set label as the 0-9 class with highest value \n",
        "submission['Label'] = submission.idxmax(axis=1)\n",
        "submission['ImageId'] = np.asarray([i+1 for i in range(submission.shape[0])])\n",
        "\n",
        "submission.to_csv('submission-mlp_dropout.csv', \n",
        "                  columns=['ImageId','Label'],\n",
        "                  header=True,\n",
        "                  index=False)\n"
      ],
      "execution_count": null,
      "outputs": []
    },
    {
      "cell_type": "markdown",
      "metadata": {
        "id": "JHJBYS3U-J6l"
      },
      "source": [
        "## 4. Implementing a Convolutional Neural Network\n",
        "We implement now a CNN since MLP model is limited at 0.975 accuracy. I selected the architecture thru trials based on several examples. "
      ]
    },
    {
      "cell_type": "code",
      "metadata": {
        "id": "1dAH9WS_-J6m",
        "outputId": "58d5e669-af86-4a18-bb22-728a9acbdb87"
      },
      "source": [
        "# Reshape the images\n",
        "img_size = 28\n",
        "X_cnn = X.values.reshape(-1, img_size, img_size, 1)\n",
        "# check \n",
        "print(X_cnn.shape)\n",
        "\n",
        "X_train, X_val, y_train, y_val = train_test_split(X_cnn, y, test_size = validation_ratio)"
      ],
      "execution_count": null,
      "outputs": [
        {
          "output_type": "stream",
          "text": [
            "(42000, 28, 28, 1)\n"
          ],
          "name": "stdout"
        }
      ]
    },
    {
      "cell_type": "code",
      "metadata": {
        "id": "LzG4cVts-J6o",
        "outputId": "f6945af0-7d85-4c48-e565-ba688fc296b1"
      },
      "source": [
        "# function to create the model for Keras wrapper to scikit learn\n",
        "# we will optimize the type of pooling layer (max or average) and the activation function of the 2nd and 3rd convolution layers \n",
        "def create_cnn_model(pool_type='max', conv_activation='sigmoid', dropout_rate=0.10):\n",
        "    # create model\n",
        "    model = Sequential()\n",
        "    \n",
        "    # first layer: convolution\n",
        "    model.add(Conv2D(16, kernel_size=(5, 5), activation='relu', input_shape=(28, 28, 1))) \n",
        "        \n",
        "    # second series of layers: convolution, pooling, and dropout\n",
        "    model.add(Conv2D(32, kernel_size=(5, 5), activation=conv_activation))  \n",
        "    if pool_type == 'max':\n",
        "        model.add(MaxPooling2D(pool_size=(2, 2)))\n",
        "    if pool_type == 'average':\n",
        "        model.add(AveragePooling2D(pool_size=(2, 2)))\n",
        "    if dropout_rate != 0:\n",
        "        model.add(Dropout(rate=dropout_rate))     \n",
        "    \n",
        "    # third series of layers: convolution, pooling, and dropout    \n",
        "    model.add(Conv2D(64, kernel_size=(3, 3), activation=conv_activation))   # 32   \n",
        "    if pool_type == 'max':\n",
        "        model.add(MaxPooling2D(pool_size=(2, 2)))\n",
        "    if pool_type == 'average':\n",
        "        model.add(AveragePooling2D(pool_size=(2, 2)))\n",
        "    if dropout_rate != 0:\n",
        "        model.add(Dropout(rate=dropout_rate))     \n",
        "      \n",
        "    # fourth series\n",
        "    model.add(Flatten())         \n",
        "    model.add(Dense(64, activation='sigmoid')) # 64\n",
        "    # add a dropout layer if rate is not null    \n",
        "    if dropout_rate != 0:\n",
        "        model.add(Dropout(rate=dropout_rate)) \n",
        "        \n",
        "    model.add(Dense(10, activation='softmax'))\n",
        "    \n",
        "    # Compile model\n",
        "    model.compile( \n",
        "        optimizer='adam',\n",
        "        loss='categorical_crossentropy',\n",
        "        metrics=['accuracy'],\n",
        "        )    \n",
        "    return model\n",
        "\n",
        "cnn = create_cnn_model()\n",
        "\n",
        "cnn.compile(\n",
        "  optimizer='adam',\n",
        "  loss='categorical_crossentropy',  \n",
        "  metrics=['accuracy'],\n",
        ")\n",
        "\n",
        "cnn.summary()"
      ],
      "execution_count": null,
      "outputs": [
        {
          "output_type": "stream",
          "text": [
            "Model: \"sequential_4\"\n",
            "_________________________________________________________________\n",
            "Layer (type)                 Output Shape              Param #   \n",
            "=================================================================\n",
            "conv2d_1 (Conv2D)            (None, 24, 24, 16)        416       \n",
            "_________________________________________________________________\n",
            "conv2d_2 (Conv2D)            (None, 20, 20, 32)        12832     \n",
            "_________________________________________________________________\n",
            "max_pooling2d_1 (MaxPooling2 (None, 10, 10, 32)        0         \n",
            "_________________________________________________________________\n",
            "dropout_5 (Dropout)          (None, 10, 10, 32)        0         \n",
            "_________________________________________________________________\n",
            "conv2d_3 (Conv2D)            (None, 8, 8, 64)          18496     \n",
            "_________________________________________________________________\n",
            "max_pooling2d_2 (MaxPooling2 (None, 4, 4, 64)          0         \n",
            "_________________________________________________________________\n",
            "dropout_6 (Dropout)          (None, 4, 4, 64)          0         \n",
            "_________________________________________________________________\n",
            "flatten_1 (Flatten)          (None, 1024)              0         \n",
            "_________________________________________________________________\n",
            "dense_10 (Dense)             (None, 64)                65600     \n",
            "_________________________________________________________________\n",
            "dropout_7 (Dropout)          (None, 64)                0         \n",
            "_________________________________________________________________\n",
            "dense_11 (Dense)             (None, 10)                650       \n",
            "=================================================================\n",
            "Total params: 97,994\n",
            "Trainable params: 97,994\n",
            "Non-trainable params: 0\n",
            "_________________________________________________________________\n"
          ],
          "name": "stdout"
        }
      ]
    },
    {
      "cell_type": "markdown",
      "metadata": {
        "id": "_3kWLLaZ-J6q"
      },
      "source": [
        "********************************************************************************\n",
        "Let's check the number of parameters:\n",
        "* the first layer is a convolution layer with 16 kernels of size 5x5. Each kernel has 26 parameters (25 weigths plus bias). Total is 16 x 26 = 416\n",
        "* the second layer is also a convolution layer with 32 kernels of size 5x5. There are 16 input images from the output of the previous layer. For every kernel, the 16 images are combined together, with 16 (input size) x 25 (kernel size) weights plus bias (that is 401 parameters for each kernel). Total number of parameters for this layers is 401 x 32 = 12,832\n",
        "* using same calculation logic, the number of parameters for the 3rd layer is ( 32 (input size) x 9 (kernel size) + 1 ) x 64 (number of kernels) = 18,4896\n",
        "* for the dense layer, its input is the result of the flatten layer (taking as input the 64 x 16 images from the pooling layer, and mapping them to a flat array of 64 x 16 = 1024). Output size is 64, therefore number of parameters is 64 x (1024 weights + bias) = 65,600\n",
        "* same way, the final layer has (64 x 1) x 10 = 650 parameters\n",
        "********************************************************************************"
      ]
    },
    {
      "cell_type": "code",
      "metadata": {
        "id": "z9Dk2HXf-J6r",
        "outputId": "60f5dbf0-7fe4-4140-a7d1-9849499eefa9"
      },
      "source": [
        "# Train the default CNN model\n",
        "history = cnn.fit(\n",
        "    X_train,\n",
        "    to_categorical(y_train),\n",
        "    epochs=n_epochs,  \n",
        "    validation_data=(X_val, to_categorical(y_val)), \n",
        "    batch_size=32,\n",
        "    callbacks = [early_stop]\n",
        ")"
      ],
      "execution_count": null,
      "outputs": [
        {
          "output_type": "stream",
          "text": [
            "Train on 37800 samples, validate on 4200 samples\n",
            "Epoch 1/30\n",
            "37800/37800 [==============================] - 40s 1ms/step - loss: 0.5140 - accuracy: 0.8495 - val_loss: 0.1221 - val_accuracy: 0.9669\n",
            "Epoch 2/30\n",
            "37800/37800 [==============================] - 39s 1ms/step - loss: 0.1081 - accuracy: 0.9702 - val_loss: 0.0794 - val_accuracy: 0.9788\n",
            "Epoch 3/30\n",
            "37800/37800 [==============================] - 40s 1ms/step - loss: 0.0757 - accuracy: 0.9784 - val_loss: 0.0607 - val_accuracy: 0.9814\n",
            "Epoch 4/30\n",
            "37800/37800 [==============================] - 41s 1ms/step - loss: 0.0576 - accuracy: 0.9832 - val_loss: 0.0526 - val_accuracy: 0.9838\n",
            "Epoch 5/30\n",
            "37800/37800 [==============================] - 40s 1ms/step - loss: 0.0495 - accuracy: 0.9854 - val_loss: 0.0484 - val_accuracy: 0.9848\n",
            "Epoch 6/30\n",
            "37800/37800 [==============================] - 40s 1ms/step - loss: 0.0408 - accuracy: 0.9874 - val_loss: 0.0421 - val_accuracy: 0.9857\n",
            "Epoch 7/30\n",
            "37800/37800 [==============================] - 40s 1ms/step - loss: 0.0350 - accuracy: 0.9895 - val_loss: 0.0433 - val_accuracy: 0.9874\n",
            "Epoch 8/30\n",
            "37800/37800 [==============================] - 40s 1ms/step - loss: 0.0322 - accuracy: 0.9903 - val_loss: 0.0434 - val_accuracy: 0.9850\n",
            "Epoch 9/30\n",
            "37800/37800 [==============================] - 40s 1ms/step - loss: 0.0275 - accuracy: 0.9916 - val_loss: 0.0347 - val_accuracy: 0.9898\n",
            "Epoch 10/30\n",
            "37800/37800 [==============================] - 40s 1ms/step - loss: 0.0240 - accuracy: 0.9923 - val_loss: 0.0359 - val_accuracy: 0.9890\n",
            "Epoch 11/30\n",
            "37800/37800 [==============================] - 40s 1ms/step - loss: 0.0214 - accuracy: 0.9933 - val_loss: 0.0352 - val_accuracy: 0.9905\n",
            "Epoch 12/30\n",
            "37800/37800 [==============================] - 40s 1ms/step - loss: 0.0197 - accuracy: 0.9940 - val_loss: 0.0340 - val_accuracy: 0.9893\n",
            "Epoch 13/30\n",
            "37800/37800 [==============================] - 40s 1ms/step - loss: 0.0179 - accuracy: 0.9942 - val_loss: 0.0358 - val_accuracy: 0.9890\n",
            "Epoch 14/30\n",
            "37800/37800 [==============================] - 40s 1ms/step - loss: 0.0150 - accuracy: 0.9953 - val_loss: 0.0329 - val_accuracy: 0.9898\n",
            "Epoch 15/30\n",
            "37800/37800 [==============================] - 40s 1ms/step - loss: 0.0150 - accuracy: 0.9954 - val_loss: 0.0339 - val_accuracy: 0.9902\n",
            "Epoch 16/30\n",
            "37800/37800 [==============================] - 40s 1ms/step - loss: 0.0138 - accuracy: 0.9956 - val_loss: 0.0292 - val_accuracy: 0.9910\n",
            "Epoch 17/30\n",
            "37800/37800 [==============================] - 40s 1ms/step - loss: 0.0135 - accuracy: 0.9961 - val_loss: 0.0327 - val_accuracy: 0.9910\n",
            "Epoch 18/30\n",
            "37800/37800 [==============================] - 40s 1ms/step - loss: 0.0105 - accuracy: 0.9970 - val_loss: 0.0362 - val_accuracy: 0.9888\n",
            "Epoch 19/30\n",
            "37800/37800 [==============================] - 40s 1ms/step - loss: 0.0094 - accuracy: 0.9971 - val_loss: 0.0345 - val_accuracy: 0.9914\n",
            "Epoch 20/30\n",
            "34016/37800 [=========================>....] - ETA: 3s - loss: 0.0107 - accuracy: 0.9969"
          ],
          "name": "stdout"
        }
      ]
    },
    {
      "cell_type": "markdown",
      "metadata": {
        "id": "mE2S6KUc-J6s"
      },
      "source": [
        "*************************************************************"
      ]
    },
    {
      "cell_type": "markdown",
      "metadata": {
        "id": "zNdzuiu9-J6t"
      },
      "source": [
        "## 5. Optimize the hyperparameters of the CNN thru GridSearch"
      ]
    },
    {
      "cell_type": "code",
      "metadata": {
        "id": "sp5Y1IQm-J6u",
        "outputId": "89379298-6b4f-43e9-a214-10d02d1c0693"
      },
      "source": [
        "# optimize model \n",
        "start = time()\n",
        "\n",
        "# create model\n",
        "model = KerasClassifier(build_fn=create_cnn_model, verbose=1)\n",
        "# define parameters and values for grid search \n",
        "param_grid = {\n",
        "    'pool_type': ['max', 'average'],\n",
        "    'conv_activation': ['sigmoid', 'tanh'],    \n",
        "    'epochs': [n_epochs_cv],\n",
        "}\n",
        "\n",
        "grid = GridSearchCV(estimator=model, param_grid=param_grid, n_jobs=-1, cv=n_cv)\n",
        "grid_result = grid.fit(X_train, to_categorical(y_train))\n",
        "\n",
        "# summarize results\n",
        "print('time for grid search = {:.0f} sec'.format(time()-start))\n",
        "display_cv_results(grid_result)"
      ],
      "execution_count": null,
      "outputs": [
        {
          "output_type": "stream",
          "text": [
            "Epoch 1/10\n",
            "37800/37800 [==============================] - 39s 1ms/step - loss: 0.2464 - accuracy: 0.9382\n",
            "Epoch 2/10\n",
            "37800/37800 [==============================] - 39s 1ms/step - loss: 0.0682 - accuracy: 0.9818\n",
            "Epoch 3/10\n",
            "37800/37800 [==============================] - 38s 1ms/step - loss: 0.0495 - accuracy: 0.9861\n",
            "Epoch 4/10\n",
            "37800/37800 [==============================] - 38s 1ms/step - loss: 0.0414 - accuracy: 0.9878\n",
            "Epoch 5/10\n",
            "37800/37800 [==============================] - 38s 1ms/step - loss: 0.0351 - accuracy: 0.9888\n",
            "Epoch 6/10\n",
            "37800/37800 [==============================] - 39s 1ms/step - loss: 0.0292 - accuracy: 0.9912\n",
            "Epoch 7/10\n",
            "37800/37800 [==============================] - 38s 1ms/step - loss: 0.0268 - accuracy: 0.9919\n",
            "Epoch 8/10\n",
            "37800/37800 [==============================] - 39s 1ms/step - loss: 0.0235 - accuracy: 0.9934\n",
            "Epoch 9/10\n",
            "37800/37800 [==============================] - 39s 1ms/step - loss: 0.0217 - accuracy: 0.9929\n",
            "Epoch 10/10\n",
            "37800/37800 [==============================] - 39s 1ms/step - loss: 0.0189 - accuracy: 0.9941\n",
            "time for grid search = 2974 sec\n",
            "Best score = 0.9871 using {'conv_activation': 'tanh', 'epochs': 10, 'pool_type': 'max'}\n",
            "mean test accuracy +/- std = 0.9862 +/- 0.0022 with: {'conv_activation': 'sigmoid', 'epochs': 10, 'pool_type': 'max'}\n",
            "mean test accuracy +/- std = 0.9841 +/- 0.0017 with: {'conv_activation': 'sigmoid', 'epochs': 10, 'pool_type': 'average'}\n",
            "mean test accuracy +/- std = 0.9871 +/- 0.0008 with: {'conv_activation': 'tanh', 'epochs': 10, 'pool_type': 'max'}\n",
            "mean test accuracy +/- std = 0.9849 +/- 0.0036 with: {'conv_activation': 'tanh', 'epochs': 10, 'pool_type': 'average'}\n"
          ],
          "name": "stdout"
        }
      ]
    },
    {
      "cell_type": "markdown",
      "metadata": {
        "id": "M5doFTiE-J6v"
      },
      "source": [
        "## 6. Use data augmentation to improve performance"
      ]
    },
    {
      "cell_type": "code",
      "metadata": {
        "id": "Ab3Ssov7-J6w",
        "outputId": "b6413644-5ebf-43cd-ad8b-54722218b2dc"
      },
      "source": [
        "# optimize parameters of the fit method \n",
        "cnn_model = create_cnn_model(pool_type = grid_result.best_params_['pool_type'],\n",
        "                             conv_activation = grid_result.best_params_['conv_activation'])\n",
        "\n",
        "# With data augmentation \n",
        "datagen = ImageDataGenerator(\n",
        "        rotation_range=10,  # randomly rotate images in the range (degrees, 0 to 180)\n",
        "        zoom_range = 0.1, # Randomly zoom image \n",
        "        width_shift_range=0.1,  # randomly shift images horizontally (fraction of total width)\n",
        "        height_shift_range=0.1,  # randomly shift images vertically (fraction of total height)\n",
        "        horizontal_flip=False,  # randomly flip images\n",
        "        vertical_flip=False,  # randomly flip images\n",
        "        fill_mode='constant', cval = 0.0)\n",
        "\n",
        "datagen.fit(X_train)\n",
        "\n",
        "history = cnn_model.fit_generator(datagen.flow(X_train,to_categorical(y_train), batch_size=32),\n",
        "                                  epochs = n_epochs, \n",
        "                                  validation_data = (X_val,to_categorical(y_val)),\n",
        "                                  verbose = 1, \n",
        "                                  steps_per_epoch = X_train.shape[0] / 32,\n",
        "                                  callbacks = [early_stop])\n",
        "\n",
        "# plot accuracy on training and validation data\n",
        "df_history = pd.DataFrame(history.history)\n",
        "sns.lineplot(data=df_history[['accuracy','val_accuracy']], palette=\"tab10\", linewidth=2.5);"
      ],
      "execution_count": null,
      "outputs": [
        {
          "output_type": "stream",
          "text": [
            "Epoch 1/30\n",
            "1182/1181 [==============================] - 45s 38ms/step - loss: 0.4844 - accuracy: 0.8635 - val_loss: 0.0923 - val_accuracy: 0.9745\n",
            "Epoch 2/30\n",
            "1182/1181 [==============================] - 45s 38ms/step - loss: 0.1716 - accuracy: 0.9505 - val_loss: 0.0549 - val_accuracy: 0.9826\n",
            "Epoch 3/30\n",
            "1182/1181 [==============================] - 45s 38ms/step - loss: 0.1333 - accuracy: 0.9599 - val_loss: 0.0508 - val_accuracy: 0.9836\n",
            "Epoch 4/30\n",
            "1182/1181 [==============================] - 44s 38ms/step - loss: 0.1171 - accuracy: 0.9647 - val_loss: 0.0477 - val_accuracy: 0.9848\n",
            "Epoch 5/30\n",
            "1182/1181 [==============================] - 44s 37ms/step - loss: 0.1058 - accuracy: 0.9686 - val_loss: 0.0460 - val_accuracy: 0.9852\n",
            "Epoch 6/30\n",
            "1182/1181 [==============================] - 44s 37ms/step - loss: 0.0973 - accuracy: 0.9709 - val_loss: 0.0414 - val_accuracy: 0.9879\n",
            "Epoch 7/30\n",
            "1182/1181 [==============================] - 45s 38ms/step - loss: 0.0921 - accuracy: 0.9719 - val_loss: 0.0414 - val_accuracy: 0.9867\n",
            "Epoch 8/30\n",
            "1182/1181 [==============================] - 44s 38ms/step - loss: 0.0894 - accuracy: 0.9736 - val_loss: 0.0378 - val_accuracy: 0.9883\n",
            "Epoch 9/30\n",
            "1182/1181 [==============================] - 44s 38ms/step - loss: 0.0821 - accuracy: 0.9754 - val_loss: 0.0415 - val_accuracy: 0.9871\n",
            "Epoch 10/30\n",
            "1182/1181 [==============================] - 45s 38ms/step - loss: 0.0790 - accuracy: 0.9766 - val_loss: 0.0329 - val_accuracy: 0.9895\n",
            "Epoch 11/30\n",
            "1182/1181 [==============================] - 44s 37ms/step - loss: 0.0735 - accuracy: 0.9783 - val_loss: 0.0343 - val_accuracy: 0.9900\n",
            "Epoch 12/30\n",
            "1182/1181 [==============================] - 44s 38ms/step - loss: 0.0747 - accuracy: 0.9774 - val_loss: 0.0356 - val_accuracy: 0.9881\n",
            "Epoch 13/30\n",
            "1182/1181 [==============================] - 44s 38ms/step - loss: 0.0713 - accuracy: 0.9775 - val_loss: 0.0371 - val_accuracy: 0.9883\n",
            "Epoch 14/30\n",
            "1182/1181 [==============================] - 45s 38ms/step - loss: 0.0714 - accuracy: 0.9783 - val_loss: 0.0317 - val_accuracy: 0.9902\n",
            "Epoch 15/30\n",
            "1182/1181 [==============================] - 44s 38ms/step - loss: 0.0697 - accuracy: 0.9784 - val_loss: 0.0354 - val_accuracy: 0.9900\n",
            "Epoch 16/30\n",
            "1182/1181 [==============================] - 44s 38ms/step - loss: 0.0687 - accuracy: 0.9785 - val_loss: 0.0318 - val_accuracy: 0.9902\n",
            "Epoch 17/30\n",
            "1182/1181 [==============================] - 44s 38ms/step - loss: 0.0640 - accuracy: 0.9811 - val_loss: 0.0325 - val_accuracy: 0.9886\n",
            "Epoch 18/30\n",
            "1182/1181 [==============================] - 44s 38ms/step - loss: 0.0669 - accuracy: 0.9805 - val_loss: 0.0394 - val_accuracy: 0.9871\n",
            "Epoch 19/30\n",
            "1182/1181 [==============================] - 44s 37ms/step - loss: 0.0647 - accuracy: 0.9805 - val_loss: 0.0345 - val_accuracy: 0.9886\n"
          ],
          "name": "stdout"
        },
        {
          "output_type": "display_data",
          "data": {
            "image/png": "[encoded data removed]",
            "text/plain": [
              "<Figure size 432x288 with 1 Axes>"
            ]
          },
          "metadata": {
            "tags": [],
            "needs_background": "light"
          }
        }
      ]
    },
    {
      "cell_type": "markdown",
      "metadata": {
        "id": "UA8jOSld-J6x"
      },
      "source": [
        "##Data Augmentation By ImageDataGenerator"
      ]
    },
    {
      "cell_type": "code",
      "metadata": {
        "id": "a0YfXCoa-J6y",
        "outputId": "1d5aa33a-2b11-42ed-b36d-07843412d454"
      },
      "source": [
        "# optimize parameters of the fit method \n",
        "cnn_model = create_cnn_model(pool_type = grid_result.best_params_['pool_type'],\n",
        "                             conv_activation = grid_result.best_params_['conv_activation'], \n",
        "                            dropout_rate=0.0)\n",
        "\n",
        "#define early stop on the accuracy as this is the metric we want to improve\n",
        "early_stop = EarlyStopping(monitor = 'accuracy', mode = 'max', patience=5, restore_best_weights=True)\n",
        "history = cnn_model.fit_generator(datagen.flow(X_train,to_categorical(y_train), batch_size=32),\n",
        "                                  epochs = n_epochs, \n",
        "                                  validation_data = (X_val,to_categorical(y_val)),\n",
        "                                  verbose = 1, \n",
        "                                  steps_per_epoch = X_train.shape[0] / 32,\n",
        "                                  callbacks = [early_stop])\n",
        "\n",
        "# plot accuracy on training and validation data\n",
        "df_history = pd.DataFrame(history.history)\n",
        "sns.lineplot(data=df_history[['accuracy','val_accuracy']], palette=\"tab10\", linewidth=2.5);"
      ],
      "execution_count": null,
      "outputs": [
        {
          "output_type": "stream",
          "text": [
            "Epoch 1/30\n",
            "1182/1181 [==============================] - 43s 36ms/step - loss: 0.4572 - accuracy: 0.8753 - val_loss: 0.0847 - val_accuracy: 0.9798\n",
            "Epoch 2/30\n",
            "1182/1181 [==============================] - 42s 36ms/step - loss: 0.1372 - accuracy: 0.9610 - val_loss: 0.0568 - val_accuracy: 0.9845\n",
            "Epoch 3/30\n",
            "1182/1181 [==============================] - 43s 36ms/step - loss: 0.1088 - accuracy: 0.9679 - val_loss: 0.0520 - val_accuracy: 0.9833\n",
            "Epoch 4/30\n",
            "1182/1181 [==============================] - 42s 36ms/step - loss: 0.0888 - accuracy: 0.9743 - val_loss: 0.0536 - val_accuracy: 0.9845\n",
            "Epoch 5/30\n",
            "1182/1181 [==============================] - 42s 36ms/step - loss: 0.0802 - accuracy: 0.9757 - val_loss: 0.0468 - val_accuracy: 0.9862\n",
            "Epoch 6/30\n",
            "1182/1181 [==============================] - 42s 36ms/step - loss: 0.0738 - accuracy: 0.9781 - val_loss: 0.0398 - val_accuracy: 0.9867\n",
            "Epoch 7/30\n",
            "1182/1181 [==============================] - 43s 37ms/step - loss: 0.0685 - accuracy: 0.9792 - val_loss: 0.0417 - val_accuracy: 0.9876\n",
            "Epoch 8/30\n",
            "1182/1181 [==============================] - 42s 36ms/step - loss: 0.0655 - accuracy: 0.9800 - val_loss: 0.0325 - val_accuracy: 0.9907\n",
            "Epoch 9/30\n",
            "1182/1181 [==============================] - 43s 36ms/step - loss: 0.0623 - accuracy: 0.9813 - val_loss: 0.0485 - val_accuracy: 0.9836\n",
            "Epoch 10/30\n",
            "1182/1181 [==============================] - 43s 36ms/step - loss: 0.0594 - accuracy: 0.9814 - val_loss: 0.0313 - val_accuracy: 0.9910\n",
            "Epoch 11/30\n",
            "1182/1181 [==============================] - 43s 36ms/step - loss: 0.0572 - accuracy: 0.9828 - val_loss: 0.0314 - val_accuracy: 0.9900\n",
            "Epoch 12/30\n",
            "1182/1181 [==============================] - 42s 36ms/step - loss: 0.0560 - accuracy: 0.9824 - val_loss: 0.0338 - val_accuracy: 0.9888\n",
            "Epoch 13/30\n",
            "1182/1181 [==============================] - 42s 36ms/step - loss: 0.0539 - accuracy: 0.9833 - val_loss: 0.0412 - val_accuracy: 0.9857\n",
            "Epoch 14/30\n",
            "1182/1181 [==============================] - 42s 36ms/step - loss: 0.0528 - accuracy: 0.9829 - val_loss: 0.0392 - val_accuracy: 0.9867\n",
            "Epoch 15/30\n",
            "1182/1181 [==============================] - 42s 36ms/step - loss: 0.0483 - accuracy: 0.9851 - val_loss: 0.0291 - val_accuracy: 0.9912\n",
            "Epoch 16/30\n",
            "1182/1181 [==============================] - 43s 37ms/step - loss: 0.0483 - accuracy: 0.9850 - val_loss: 0.0343 - val_accuracy: 0.9876\n",
            "Epoch 17/30\n",
            "1182/1181 [==============================] - 42s 36ms/step - loss: 0.0483 - accuracy: 0.9845 - val_loss: 0.0390 - val_accuracy: 0.9869\n",
            "Epoch 18/30\n",
            "1182/1181 [==============================] - 42s 36ms/step - loss: 0.0493 - accuracy: 0.9841 - val_loss: 0.0354 - val_accuracy: 0.9895\n",
            "Epoch 19/30\n",
            "1182/1181 [==============================] - 42s 36ms/step - loss: 0.0483 - accuracy: 0.9843 - val_loss: 0.0356 - val_accuracy: 0.9871\n",
            "Epoch 20/30\n",
            "1182/1181 [==============================] - 42s 36ms/step - loss: 0.0487 - accuracy: 0.9857 - val_loss: 0.0300 - val_accuracy: 0.9907\n",
            "Epoch 21/30\n",
            " 702/1181 [================>.............] - ETA: 16s - loss: 0.0459 - accuracy: 0.9849"
          ],
          "name": "stdout"
        }
      ]
    },
    {
      "cell_type": "markdown",
      "metadata": {
        "id": "CZxEu0cbo12H"
      },
      "source": [
        "# ***##So here is our project on Digit recognition.We optimised the code by hyperparameter tuning- GRID SEARCH METHOD and Data augmentation by ImageDataGenerator***\r\n",
        "\r\n",
        " Project submitted by Arghyadeep Dhar *BT18CSE105* and Rohan Patil *BT18CSE022*"
      ]
    }
  ]
}